{
 "cells": [
  {
   "cell_type": "markdown",
   "id": "e7fdd6a7-9c10-42e6-8a2b-7a658f7949fb",
   "metadata": {},
   "source": [
    "# Create a training job using the realistic loan approval dataset"
   ]
  },
  {
   "cell_type": "code",
   "execution_count": null,
   "id": "042ddf1b-b035-4c42-b992-851c1c76e4a6",
   "metadata": {},
   "outputs": [],
   "source": [
    "import boto3\n",
    "import time\n",
    "from sagemaker import image_uris\n",
    "\n",
    "# Initialize Boto3 SageMaker client\n",
    "sagemaker_client = boto3.client(\"sagemaker\", region_name=\"us-east-1\")\n",
    "\n",
    "# Define Training Job Parameters\n",
    "training_job_name = f\"real-loan-predictor-xgboost-training-{int(time.time())}\"\n",
    "\n",
    "# S3 paths (Replace with your actual S3 bucket and paths)\n",
    "s3_bucket = \"adgu-datasets\"\n",
    "training_data_s3_uri = f\"s3://{s3_bucket}/INSERT-PATH\"\n",
    "output_s3_uri = f\"s3://{s3_bucket}/real-loan-predictor-output/\"\n",
    "\n",
    "# SageMaker Execution Role ARN (Replace with your SageMaker role)\n",
    "sagemaker_role = \"INSERT-ARN\""
   ]
  },
  {
   "cell_type": "code",
   "execution_count": null,
   "id": "b92efb8c-cbc9-4103-b3cb-eb8283497599",
   "metadata": {},
   "outputs": [],
   "source": [
    "# XGBoost Training Image URI (Region Specific)\n",
    "# https://docs.aws.amazon.com/sagemaker/latest/dg-ecr-paths/sagemaker-algo-docker-registry-paths.html\n",
    "\n",
    "xgboost_image_uri = image_uris.retrieve(framework='xgboost',region='us-east-1', version='1.7-1')\n",
    "print(\"XGBoost image uri: {}\".format(xgboost_image_uri))"
   ]
  },
  {
   "cell_type": "code",
   "execution_count": null,
   "id": "f186dcbb-14c5-4105-9ac8-91f9ab4032f8",
   "metadata": {},
   "outputs": [],
   "source": [
    "# Define Training Job Configuration\n",
    "training_params = {\n",
    "    \"TrainingJobName\": training_job_name,\n",
    "    \"AlgorithmSpecification\": {\n",
    "        \"TrainingImage\": xgboost_image_uri,\n",
    "        \"TrainingInputMode\": \"File\",\n",
    "    },\n",
    "    \"RoleArn\": sagemaker_role,\n",
    "    \"HyperParameters\": {  # Required XGBoost Hyperparameters\n",
    "        \"num_round\": \"100\",  # Defines number of boosting rounds\n",
    "        \"eta\": \"0.2\",  # Learning rate\n",
    "        \"objective\": \"reg:squarederror\",  # Regression problem\n",
    "        \"max_depth\": \"6\",  # Tree depth\n",
    "        \"subsample\": \"0.8\",\n",
    "        \"eval_metric\": \"rmse\",\n",
    "    },\n",
    "    \"InputDataConfig\": [\n",
    "        {\n",
    "            \"ChannelName\": \"train\",\n",
    "            \"DataSource\": {\n",
    "                \"S3DataSource\": {\n",
    "                    \"S3DataType\": \"S3Prefix\",\n",
    "                    \"S3Uri\": training_data_s3_uri,\n",
    "                    \"S3DataDistributionType\": \"FullyReplicated\",\n",
    "                }\n",
    "            },\n",
    "            \"ContentType\": \"text/csv; label_column=3\",\n",
    "        }\n",
    "    ],\n",
    "    \"OutputDataConfig\": {\"S3OutputPath\": output_s3_uri},\n",
    "    \"ResourceConfig\": {\n",
    "        \"InstanceType\": \"ml.m5.large\",\n",
    "        \"InstanceCount\": 1,\n",
    "        \"VolumeSizeInGB\": 10,\n",
    "    },\n",
    "    \"StoppingCondition\": {\"MaxRuntimeInSeconds\": 3600},\n",
    "}\n",
    "print(training_params)"
   ]
  },
  {
   "cell_type": "code",
   "execution_count": null,
   "id": "2216da88-af28-4901-a895-034feb0d60f1",
   "metadata": {},
   "outputs": [],
   "source": [
    "# Start SageMaker Training Job\n",
    "response = sagemaker_client.create_training_job(**training_params)\n",
    "\n",
    "# Print Training Job Details\n",
    "print(f\"Training Job Name: {training_job_name}\")\n",
    "print(f\"Training Job Status: {response['TrainingJobArn']}\")"
   ]
  },
  {
   "cell_type": "code",
   "execution_count": null,
   "id": "020874c8",
   "metadata": {},
   "outputs": [],
   "source": []
  }
 ],
 "metadata": {
  "kernelspec": {
   "display_name": "Python 3 (ipykernel)",
   "language": "python",
   "name": "python3"
  },
  "language_info": {
   "codemirror_mode": {
    "name": "ipython",
    "version": 3
   },
   "file_extension": ".py",
   "mimetype": "text/x-python",
   "name": "python",
   "nbconvert_exporter": "python",
   "pygments_lexer": "ipython3",
   "version": "3.11.11"
  }
 },
 "nbformat": 4,
 "nbformat_minor": 5
}
