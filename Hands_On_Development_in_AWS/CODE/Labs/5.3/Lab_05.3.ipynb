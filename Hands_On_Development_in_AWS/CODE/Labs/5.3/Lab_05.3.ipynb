{
 "cells": [
  {
   "cell_type": "markdown",
   "id": "1c15d217-288d-4526-911b-ecc95b84080d",
   "metadata": {},
   "source": [
    "# A/B Testing\n",
    "## Create the endpoint"
   ]
  },
  {
   "cell_type": "code",
   "execution_count": null,
   "id": "fa31d13b-137b-4b02-a17a-1231e4712946",
   "metadata": {},
   "outputs": [],
   "source": [
    "import boto3, time\n",
    "sagemaker_client = boto3.client('sagemaker')\n",
    "\n",
    "underfit_model_name = f\"xgboost-model-underfit\"\n",
    "normal_model_name = f\"xgboost-model-normal\"\n",
    "overfit_model_name = f\"xgboost-model-overfit\"\n",
    "\n",
    "# Define the three models\n",
    "variant_underfit = {\n",
    "  'VariantName': 'ModelUnderfit',\n",
    "  'ModelName': underfit_model_name,\n",
    "  'InitialVariantWeight': 0.33,\n",
    "  'InitialInstanceCount': 1,\n",
    "  'InstanceType': 'ml.m5.large'\n",
    "}\n",
    "variant_normal = {\n",
    "  'VariantName': 'ModelNormal',\n",
    "  'ModelName': normal_model_name,\n",
    "  'InitialVariantWeight': 0.34,\n",
    "  'InitialInstanceCount': 1,\n",
    "  'InstanceType': 'ml.m5.large'\n",
    "}\n",
    "variant_overfit = {\n",
    "  'VariantName': 'ModelOverfit',\n",
    "  'ModelName': overfit_model_name,\n",
    "  'InitialVariantWeight': 0.33,\n",
    "  'InitialInstanceCount': 1,\n",
    "  'InstanceType': 'ml.m5.large'\n",
    "}\n",
    "\n",
    "# Create endpoint configuration\n",
    "endpoint_config_name = 'abc-test-endpoint-config'\n",
    "sagemaker_client.create_endpoint_config(\n",
    "  EndpointConfigName=endpoint_config_name,\n",
    "  ProductionVariants=[variant_underfit, variant_normal, variant_overfit]\n",
    ")"
   ]
  },
  {
   "cell_type": "code",
   "execution_count": null,
   "id": "57febf67-1985-4342-adb8-c5eb3cd0ae64",
   "metadata": {},
   "outputs": [],
   "source": [
    "# Deploy the endpoint\n",
    "endpoint_name = 'abc-test-endpoint'\n",
    "sagemaker_client.create_endpoint(\n",
    "  EndpointName=endpoint_name,\n",
    "  EndpointConfigName=endpoint_config_name\n",
    ")\n",
    "\n",
    "# Wait for endpoint to be ready\n",
    "print(\"Waiting for endpoint to be ready...\")\n",
    "while True:\n",
    "    response = sagemaker_client.describe_endpoint(EndpointName=endpoint_name)\n",
    "    status = response[\"EndpointStatus\"]\n",
    "    if status in [\"InService\", \"Failed\"]:\n",
    "        print(f\"Endpoint Status: {status}\")\n",
    "        break\n",
    "    time.sleep(10)\n",
    "\n",
    "# Check if deployment was successful\n",
    "if status != \"InService\":\n",
    "    raise Exception(f\"Deployment failed with status: {status}\")\n",
    "\n",
    "print(f\"Model deployed successfully at endpoint: {endpoint_config_name}\")"
   ]
  },
  {
   "cell_type": "markdown",
   "id": "6d3a110b-8c98-4e83-a12b-34b351705716",
   "metadata": {},
   "source": [
    "# Random Predictions\n",
    "Generate random predictions sent to the endpoint, SageMaker will handle sharing the queries across the models using the pre-defined variant weight in the configuration above.\n",
    "\n",
    "[https://docs.aws.amazon.com/sagemaker/latest/APIReference/API_runtime_InvokeEndpoint.html](https://docs.aws.amazon.com/sagemaker/latest/APIReference/API_runtime_InvokeEndpoint.html)\n",
    "```\n",
    "POST /endpoints/EndpointName/invocations HTTP/1.1\n",
    "Content-Type: ContentType\n",
    "Accept: Accept\n",
    "X-Amzn-SageMaker-Custom-Attributes: CustomAttributes\n",
    "X-Amzn-SageMaker-Target-Model: TargetModel\n",
    "X-Amzn-SageMaker-Target-Variant: TargetVariant\n",
    "X-Amzn-SageMaker-Target-Container-Hostname: TargetContainerHostname\n",
    "X-Amzn-SageMaker-Inference-Id: InferenceId\n",
    "X-Amzn-SageMaker-Enable-Explanations: EnableExplanations\n",
    "X-Amzn-SageMaker-Inference-Component: InferenceComponentName\n",
    "X-Amzn-SageMaker-Session-Id: SessionId\n",
    "```"
   ]
  },
  {
   "cell_type": "code",
   "execution_count": null,
   "id": "836c68b0-7733-41f1-adc3-22dd9b48092f",
   "metadata": {},
   "outputs": [],
   "source": [
    "import random\n",
    "sagemaker_runtime = boto3.client('sagemaker-runtime')\n",
    "\n",
    "total_predictions = 25\n",
    "\n",
    "def random_data():\n",
    "    age = random.randint(18, 80) \n",
    "    edu = random.randint(0, 4)\n",
    "    income = random.randint(20000, 99999) \n",
    "    return f\"{age},{edu},{income}\"\n",
    "\n",
    "for _ in range(total_predictions):\n",
    "    data = random_data()\n",
    "    for i in range(3):\n",
    "        response = sagemaker_runtime.invoke_endpoint(\n",
    "            EndpointName=endpoint_name,\n",
    "            ContentType='text/csv',\n",
    "            Body=data\n",
    "        )\n",
    "        \n",
    "        responding_variant = response['ResponseMetadata']['HTTPHeaders'].get('x-amzn-invoked-production-variant', 'Unknown')\n",
    "        print(f\"{_}[{i}]:  Prediction for {data}\\tresult: {response['Body'].read().decode('utf-8').strip()}\\tvariant: {responding_variant}\")"
   ]
  },
  {
   "cell_type": "code",
   "execution_count": null,
   "id": "192aadcb-f984-4e6c-aee7-5eee0f4189db",
   "metadata": {},
   "outputs": [],
   "source": []
  }
 ],
 "metadata": {
  "kernelspec": {
   "display_name": "Python 3 (ipykernel)",
   "language": "python",
   "name": "python3"
  },
  "language_info": {
   "codemirror_mode": {
    "name": "ipython",
    "version": 3
   },
   "file_extension": ".py",
   "mimetype": "text/x-python",
   "name": "python",
   "nbconvert_exporter": "python",
   "pygments_lexer": "ipython3",
   "version": "3.9.6"
  }
 },
 "nbformat": 4,
 "nbformat_minor": 5
}
