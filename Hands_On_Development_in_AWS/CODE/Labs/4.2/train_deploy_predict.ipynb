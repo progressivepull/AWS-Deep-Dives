{
 "cells": [
  {
   "cell_type": "markdown",
   "id": "157af96a-70b7-4dad-ae5e-e4bcaedfcc96",
   "metadata": {},
   "source": [
    "# Lab_04.2.md\n",
    "\n",
    "Various pieces of code to build a model, deploy it and make a prediction from a notebook.\n"
   ]
  },
  {
   "cell_type": "code",
   "execution_count": 1,
   "id": "3d62a0e3-9971-4524-a564-4b418f4d6bf8",
   "metadata": {},
   "outputs": [
    {
     "name": "stderr",
     "output_type": "stream",
     "text": [
      "/Users/nick/Library/Python/3.9/lib/python/site-packages/pydantic/_internal/_fields.py:192: UserWarning: Field name \"json\" in \"MonitoringDatasetFormat\" shadows an attribute in parent \"Base\"\n",
      "  warnings.warn(\n"
     ]
    },
    {
     "data": {
      "text/html": [
       "<pre style=\"white-space:pre;overflow-x:auto;line-height:normal;font-family:Menlo,'DejaVu Sans Mono',consolas,'Courier New',monospace\"><span style=\"color: #7fbfbf; text-decoration-color: #7fbfbf\">[03/17/25 11:44:45] </span><span style=\"color: #0069ff; text-decoration-color: #0069ff; font-weight: bold\">INFO    </span> Found credentials in shared credentials file: ~<span style=\"color: #e100e1; text-decoration-color: #e100e1\">/.aws/credentials</span>   <a href=\"file:///Users/nick/Library/Python/3.9/lib/python/site-packages/botocore/credentials.py\" target=\"_blank\"><span style=\"color: #7f7f7f; text-decoration-color: #7f7f7f\">credentials.py</span></a><span style=\"color: #7f7f7f; text-decoration-color: #7f7f7f\">:</span><a href=\"file:///Users/nick/Library/Python/3.9/lib/python/site-packages/botocore/credentials.py#1352\" target=\"_blank\"><span style=\"color: #7f7f7f; text-decoration-color: #7f7f7f\">1352</span></a>\n",
       "</pre>\n"
      ],
      "text/plain": [
       "\u001b[2;36m[03/17/25 11:44:45]\u001b[0m\u001b[2;36m \u001b[0m\u001b[1;38;2;0;105;255mINFO    \u001b[0m Found credentials in shared credentials file: ~\u001b[38;2;225;0;225m/.aws/\u001b[0m\u001b[38;2;225;0;225mcredentials\u001b[0m   \u001b]8;id=462704;file:///Users/nick/Library/Python/3.9/lib/python/site-packages/botocore/credentials.py\u001b\\\u001b[2mcredentials.py\u001b[0m\u001b]8;;\u001b\\\u001b[2m:\u001b[0m\u001b]8;id=105461;file:///Users/nick/Library/Python/3.9/lib/python/site-packages/botocore/credentials.py#1352\u001b\\\u001b[2m1352\u001b[0m\u001b]8;;\u001b\\\n"
      ]
     },
     "metadata": {},
     "output_type": "display_data"
    },
    {
     "name": "stdout",
     "output_type": "stream",
     "text": [
      "sagemaker.config INFO - Not applying SDK defaults from location: /Library/Application Support/sagemaker/config.yaml\n",
      "sagemaker.config INFO - Not applying SDK defaults from location: /Users/nick/Library/Application Support/sagemaker/config.yaml\n"
     ]
    },
    {
     "data": {
      "text/html": [
       "<pre style=\"white-space:pre;overflow-x:auto;line-height:normal;font-family:Menlo,'DejaVu Sans Mono',consolas,'Courier New',monospace\"><span style=\"color: #7fbfbf; text-decoration-color: #7fbfbf\">[03/17/25 11:44:46] </span><span style=\"color: #0069ff; text-decoration-color: #0069ff; font-weight: bold\">INFO    </span> Found credentials in shared credentials file: ~<span style=\"color: #e100e1; text-decoration-color: #e100e1\">/.aws/credentials</span>   <a href=\"file:///Users/nick/Library/Python/3.9/lib/python/site-packages/botocore/credentials.py\" target=\"_blank\"><span style=\"color: #7f7f7f; text-decoration-color: #7f7f7f\">credentials.py</span></a><span style=\"color: #7f7f7f; text-decoration-color: #7f7f7f\">:</span><a href=\"file:///Users/nick/Library/Python/3.9/lib/python/site-packages/botocore/credentials.py#1352\" target=\"_blank\"><span style=\"color: #7f7f7f; text-decoration-color: #7f7f7f\">1352</span></a>\n",
       "</pre>\n"
      ],
      "text/plain": [
       "\u001b[2;36m[03/17/25 11:44:46]\u001b[0m\u001b[2;36m \u001b[0m\u001b[1;38;2;0;105;255mINFO    \u001b[0m Found credentials in shared credentials file: ~\u001b[38;2;225;0;225m/.aws/\u001b[0m\u001b[38;2;225;0;225mcredentials\u001b[0m   \u001b]8;id=219849;file:///Users/nick/Library/Python/3.9/lib/python/site-packages/botocore/credentials.py\u001b\\\u001b[2mcredentials.py\u001b[0m\u001b]8;;\u001b\\\u001b[2m:\u001b[0m\u001b]8;id=554161;file:///Users/nick/Library/Python/3.9/lib/python/site-packages/botocore/credentials.py#1352\u001b\\\u001b[2m1352\u001b[0m\u001b]8;;\u001b\\\n"
      ]
     },
     "metadata": {},
     "output_type": "display_data"
    },
    {
     "data": {
      "text/html": [
       "<pre style=\"white-space:pre;overflow-x:auto;line-height:normal;font-family:Menlo,'DejaVu Sans Mono',consolas,'Courier New',monospace\"><span style=\"color: #7fbfbf; text-decoration-color: #7fbfbf\">                    </span><span style=\"color: #0069ff; text-decoration-color: #0069ff; font-weight: bold\">INFO    </span> Ignoring unnecessary instance type: <span style=\"color: #e100e1; text-decoration-color: #e100e1; font-style: italic\">None</span>.                            <a href=\"file:///Users/nick/Library/Python/3.9/lib/python/site-packages/sagemaker/image_uris.py\" target=\"_blank\"><span style=\"color: #7f7f7f; text-decoration-color: #7f7f7f\">image_uris.py</span></a><span style=\"color: #7f7f7f; text-decoration-color: #7f7f7f\">:</span><a href=\"file:///Users/nick/Library/Python/3.9/lib/python/site-packages/sagemaker/image_uris.py#530\" target=\"_blank\"><span style=\"color: #7f7f7f; text-decoration-color: #7f7f7f\">530</span></a>\n",
       "</pre>\n"
      ],
      "text/plain": [
       "\u001b[2;36m                   \u001b[0m\u001b[2;36m \u001b[0m\u001b[1;38;2;0;105;255mINFO    \u001b[0m Ignoring unnecessary instance type: \u001b[3;38;2;225;0;225mNone\u001b[0m.                            \u001b]8;id=798061;file:///Users/nick/Library/Python/3.9/lib/python/site-packages/sagemaker/image_uris.py\u001b\\\u001b[2mimage_uris.py\u001b[0m\u001b]8;;\u001b\\\u001b[2m:\u001b[0m\u001b]8;id=149047;file:///Users/nick/Library/Python/3.9/lib/python/site-packages/sagemaker/image_uris.py#530\u001b\\\u001b[2m530\u001b[0m\u001b]8;;\u001b\\\n"
      ]
     },
     "metadata": {},
     "output_type": "display_data"
    },
    {
     "name": "stdout",
     "output_type": "stream",
     "text": [
      "XGBoost image uri: 683313688378.dkr.ecr.us-east-1.amazonaws.com/sagemaker-xgboost:1.7-1\n"
     ]
    }
   ],
   "source": [
    "import boto3\n",
    "import time, random, pprint\n",
    "from sagemaker import Model\n",
    "from sagemaker.predictor import Predictor\n",
    "from sagemaker import image_uris\n",
    "from sagemaker.serializers import CSVSerializer\n",
    "from sagemaker.deserializers import JSONDeserializer\n",
    "\n",
    "\n",
    "###\n",
    "### XGBoost only supports numerical features by default\n",
    "###   ensure your dataset encodes categorical features \n",
    "###      with either one-hot or label\n",
    "###\n",
    "\n",
    "# Initialize Boto3 SageMaker client\n",
    "sagemaker_client = boto3.client(\"sagemaker\", region_name=\"us-east-1\")\n",
    "\n",
    "# Define Training Job Name\n",
    "training_job_name = f\"xgboost-training-{int(time.time())}\"\n",
    "\n",
    "# S3 paths/keys (Replace with actual values)\n",
    "s3_bucket = \"INSERT_BUCKET\"\n",
    "training_data_s3_uri = f\"s3://{s3_bucket}/INSERT_KEY\"\n",
    "output_s3_uri = f\"s3://{s3_bucket}/output/\"\n",
    "\n",
    "# SageMaker Execution Role ARN (Replace with your SageMaker role)\n",
    "sagemaker_role = \"INSERT_ARN\"\n",
    "\n",
    "\n",
    "s3_bucket = \"adgu-datasets\"\n",
    "training_data_s3_uri = f\"s3://{s3_bucket}/tuning-job-dataset/train.csv\"\n",
    "output_s3_uri = f\"s3://{s3_bucket}/output/\"\n",
    "\n",
    "# SageMaker Execution Role ARN (Replace with your SageMaker role)\n",
    "sagemaker_role = \"arn:aws:iam::146868985163:role/SageMaker-ExecutionRole\"\n",
    "\n",
    "# XGBoost Training Image URI (Region Specific)\n",
    "# https://docs.aws.amazon.com/sagemaker/latest/dg-ecr-paths/sagemaker-algo-docker-registry-paths.html\n",
    "\n",
    "xgboost_image_uri = image_uris.retrieve(framework='xgboost',region='us-east-1', version='1.7-1')\n",
    "print(\"XGBoost image uri: {}\".format(xgboost_image_uri))"
   ]
  },
  {
   "cell_type": "code",
   "execution_count": 2,
   "id": "5c554bb5-2e44-4cf3-9d64-9df7307e2919",
   "metadata": {},
   "outputs": [],
   "source": [
    "# Define Training Job Configuration\n",
    "training_params = {\n",
    "    \"TrainingJobName\": training_job_name,\n",
    "    \"AlgorithmSpecification\": {\n",
    "        \"TrainingImage\": xgboost_image_uri,\n",
    "        \"TrainingInputMode\": \"File\",\n",
    "    },\n",
    "    \"RoleArn\": sagemaker_role,\n",
    "    \"HyperParameters\": {\n",
    "        \"num_round\": \"100\",\n",
    "        \"eta\": \"0.2\",\n",
    "        \"objective\": \"reg:squarederror\",\n",
    "        \"max_depth\": \"6\",\n",
    "        \"subsample\": \"0.8\",\n",
    "        \"eval_metric\": \"rmse\",\n",
    "    },\n",
    "    \"InputDataConfig\": [\n",
    "        {\n",
    "            \"ChannelName\": \"train\",\n",
    "            \"DataSource\": {\n",
    "                \"S3DataSource\": {\n",
    "                    \"S3DataType\": \"S3Prefix\",\n",
    "                    \"S3Uri\": training_data_s3_uri,\n",
    "                    \"S3DataDistributionType\": \"FullyReplicated\",\n",
    "                }\n",
    "            },\n",
    "            \"ContentType\": \"text/csv\",  # Target column is the first column\n",
    "        }\n",
    "    ],\n",
    "    \"OutputDataConfig\": {\"S3OutputPath\": output_s3_uri},\n",
    "    \"ResourceConfig\": {\n",
    "        \"InstanceType\": \"ml.m5.large\",\n",
    "        \"InstanceCount\": 1,\n",
    "        \"VolumeSizeInGB\": 10,\n",
    "    },\n",
    "    \"StoppingCondition\": {\"MaxRuntimeInSeconds\": 3600},\n",
    "}"
   ]
  },
  {
   "cell_type": "code",
   "execution_count": 3,
   "id": "cc7cbe79-1b51-40aa-b372-3156cc64f383",
   "metadata": {},
   "outputs": [
    {
     "name": "stdout",
     "output_type": "stream",
     "text": [
      "Starting training job...\n",
      "Waiting for training to complete...\n",
      "Training Job Status: Completed\n",
      "{'TrainingJobName': 'xgboost-training-1742237086', 'TrainingJobArn': 'arn:aws:sagemaker:us-east-1:146868985163:training-job/xgboost-training-1742237086', 'ModelArtifacts': {'S3ModelArtifacts': 's3://adgu-datasets/output/xgboost-training-1742237086/output/model.tar.gz'}, 'TrainingJobStatus': 'Completed', 'SecondaryStatus': 'Completed', 'HyperParameters': {'eta': '0.2', 'eval_metric': 'rmse', 'max_depth': '6', 'num_round': '100', 'objective': 'reg:squarederror', 'subsample': '0.8'}, 'AlgorithmSpecification': {'TrainingImage': '683313688378.dkr.ecr.us-east-1.amazonaws.com/sagemaker-xgboost:1.7-1', 'TrainingInputMode': 'File', 'MetricDefinitions': [{'Name': 'train:mae', 'Regex': '.*\\\\[[0-9]+\\\\].*#011train-mae:([-+]?[0-9]*\\\\.?[0-9]+(?:[eE][-+]?[0-9]+)?).*'}, {'Name': 'train:gamma-nloglik', 'Regex': '.*\\\\[[0-9]+\\\\].*#011train-gamma-nloglik:([-+]?[0-9]*\\\\.?[0-9]+(?:[eE][-+]?[0-9]+)?).*'}, {'Name': 'validation:mae', 'Regex': '.*\\\\[[0-9]+\\\\].*#011validation-mae:([-+]?[0-9]*\\\\.?[0-9]+(?:[eE][-+]?[0-9]+)?).*'}, {'Name': 'validation:logloss', 'Regex': '.*\\\\[[0-9]+\\\\].*#011validation-logloss:([-+]?[0-9]*\\\\.?[0-9]+(?:[eE][-+]?[0-9]+)?).*'}, {'Name': 'train:cox-nloglik', 'Regex': '.*\\\\[[0-9]+\\\\].*#011train-cox-nloglik:([-+]?[0-9]*\\\\.?[0-9]+(?:[eE][-+]?[0-9]+)?).*'}, {'Name': 'validation:f1', 'Regex': '.*\\\\[[0-9]+\\\\].*#011validation-f1:([-+]?[0-9]*\\\\.?[0-9]+(?:[eE][-+]?[0-9]+)?).*'}, {'Name': 'validation:cox-nloglik', 'Regex': '.*\\\\[[0-9]+\\\\].*#011validation-cox-nloglik:([-+]?[0-9]*\\\\.?[0-9]+(?:[eE][-+]?[0-9]+)?).*'}, {'Name': 'train:accuracy', 'Regex': '.*\\\\[[0-9]+\\\\].*#011train-accuracy:([-+]?[0-9]*\\\\.?[0-9]+(?:[eE][-+]?[0-9]+)?).*'}, {'Name': 'train:mse', 'Regex': '.*\\\\[[0-9]+\\\\].*#011train-mse:([-+]?[0-9]*\\\\.?[0-9]+(?:[eE][-+]?[0-9]+)?).*'}, {'Name': 'validation:poisson-nloglik', 'Regex': '.*\\\\[[0-9]+\\\\].*#011validation-poisson-nloglik:([-+]?[0-9]*\\\\.?[0-9]+(?:[eE][-+]?[0-9]+)?).*'}, {'Name': 'train:error', 'Regex': '.*\\\\[[0-9]+\\\\].*#011train-error:([-+]?[0-9]*\\\\.?[0-9]+(?:[eE][-+]?[0-9]+)?).*'}, {'Name': 'train:ndcg', 'Regex': '.*\\\\[[0-9]+\\\\].*#011train-ndcg:([-+]?[0-9]*\\\\.?[0-9]+(?:[eE][-+]?[0-9]+)?).*'}, {'Name': 'validation:map', 'Regex': '.*\\\\[[0-9]+\\\\].*#011validation-map:([-+]?[0-9]*\\\\.?[0-9]+(?:[eE][-+]?[0-9]+)?).*'}, {'Name': 'validation:gamma-deviance', 'Regex': '.*\\\\[[0-9]+\\\\].*#011validation-gamma-deviance:([-+]?[0-9]*\\\\.?[0-9]+(?:[eE][-+]?[0-9]+)?).*'}, {'Name': 'validation:error', 'Regex': '.*\\\\[[0-9]+\\\\].*#011validation-error:([-+]?[0-9]*\\\\.?[0-9]+(?:[eE][-+]?[0-9]+)?).*'}, {'Name': 'train:poisson-nloglik', 'Regex': '.*\\\\[[0-9]+\\\\].*#011train-poisson-nloglik:([-+]?[0-9]*\\\\.?[0-9]+(?:[eE][-+]?[0-9]+)?).*'}, {'Name': 'train:rmse', 'Regex': '.*\\\\[[0-9]+\\\\].*#011train-rmse:([-+]?[0-9]*\\\\.?[0-9]+(?:[eE][-+]?[0-9]+)?).*'}, {'Name': 'train:logloss', 'Regex': '.*\\\\[[0-9]+\\\\].*#011train-logloss:([-+]?[0-9]*\\\\.?[0-9]+(?:[eE][-+]?[0-9]+)?).*'}, {'Name': 'validation:accuracy', 'Regex': '.*\\\\[[0-9]+\\\\].*#011validation-accuracy:([-+]?[0-9]*\\\\.?[0-9]+(?:[eE][-+]?[0-9]+)?).*'}, {'Name': 'validation:rmse', 'Regex': '.*\\\\[[0-9]+\\\\].*#011validation-rmse:([-+]?[0-9]*\\\\.?[0-9]+(?:[eE][-+]?[0-9]+)?).*'}, {'Name': 'train:gamma-deviance', 'Regex': '.*\\\\[[0-9]+\\\\].*#011train-gamma-deviance:([-+]?[0-9]*\\\\.?[0-9]+(?:[eE][-+]?[0-9]+)?).*'}, {'Name': 'validation:mse', 'Regex': '.*\\\\[[0-9]+\\\\].*#011validation-mse:([-+]?[0-9]*\\\\.?[0-9]+(?:[eE][-+]?[0-9]+)?).*'}, {'Name': 'validation:ndcg', 'Regex': '.*\\\\[[0-9]+\\\\].*#011validation-ndcg:([-+]?[0-9]*\\\\.?[0-9]+(?:[eE][-+]?[0-9]+)?).*'}, {'Name': 'train:f1', 'Regex': '.*\\\\[[0-9]+\\\\].*#011train-f1:([-+]?[0-9]*\\\\.?[0-9]+(?:[eE][-+]?[0-9]+)?).*'}, {'Name': 'validation:r2', 'Regex': '.*\\\\[[0-9]+\\\\].*#011validation-r2:([-+]?[0-9]*\\\\.?[0-9]+(?:[eE][-+]?[0-9]+)?).*'}, {'Name': 'train:map', 'Regex': '.*\\\\[[0-9]+\\\\].*#011train-map:([-+]?[0-9]*\\\\.?[0-9]+(?:[eE][-+]?[0-9]+)?).*'}, {'Name': 'validation:gamma-nloglik', 'Regex': '.*\\\\[[0-9]+\\\\].*#011validation-gamma-nloglik:([-+]?[0-9]*\\\\.?[0-9]+(?:[eE][-+]?[0-9]+)?).*'}], 'EnableSageMakerMetricsTimeSeries': False}, 'RoleArn': 'arn:aws:iam::146868985163:role/SageMaker-ExecutionRole', 'InputDataConfig': [{'ChannelName': 'train', 'DataSource': {'S3DataSource': {'S3DataType': 'S3Prefix', 'S3Uri': 's3://adgu-datasets/tuning-job-dataset/train.csv', 'S3DataDistributionType': 'FullyReplicated'}}, 'ContentType': 'text/csv', 'CompressionType': 'None', 'RecordWrapperType': 'None'}], 'OutputDataConfig': {'KmsKeyId': '', 'S3OutputPath': 's3://adgu-datasets/output/', 'CompressionType': 'GZIP'}, 'ResourceConfig': {'InstanceType': 'ml.m5.large', 'InstanceCount': 1, 'VolumeSizeInGB': 10}, 'StoppingCondition': {'MaxRuntimeInSeconds': 3600}, 'CreationTime': datetime.datetime(2025, 3, 17, 11, 44, 50, 518000, tzinfo=tzlocal()), 'TrainingStartTime': datetime.datetime(2025, 3, 17, 11, 45, 30, 5000, tzinfo=tzlocal()), 'TrainingEndTime': datetime.datetime(2025, 3, 17, 11, 47, 35, 47000, tzinfo=tzlocal()), 'LastModifiedTime': datetime.datetime(2025, 3, 17, 11, 47, 35, 321000, tzinfo=tzlocal()), 'SecondaryStatusTransitions': [{'Status': 'Starting', 'StartTime': datetime.datetime(2025, 3, 17, 11, 44, 50, 518000, tzinfo=tzlocal()), 'EndTime': datetime.datetime(2025, 3, 17, 11, 45, 30, 5000, tzinfo=tzlocal()), 'StatusMessage': 'Preparing the instances for training'}, {'Status': 'Downloading', 'StartTime': datetime.datetime(2025, 3, 17, 11, 45, 30, 5000, tzinfo=tzlocal()), 'EndTime': datetime.datetime(2025, 3, 17, 11, 47, 11, 746000, tzinfo=tzlocal()), 'StatusMessage': 'Downloading the training image'}, {'Status': 'Training', 'StartTime': datetime.datetime(2025, 3, 17, 11, 47, 11, 746000, tzinfo=tzlocal()), 'EndTime': datetime.datetime(2025, 3, 17, 11, 47, 22, 223000, tzinfo=tzlocal()), 'StatusMessage': 'Training image download completed. Training in progress.'}, {'Status': 'Uploading', 'StartTime': datetime.datetime(2025, 3, 17, 11, 47, 22, 223000, tzinfo=tzlocal()), 'EndTime': datetime.datetime(2025, 3, 17, 11, 47, 35, 47000, tzinfo=tzlocal()), 'StatusMessage': 'Uploading generated training model'}, {'Status': 'Completed', 'StartTime': datetime.datetime(2025, 3, 17, 11, 47, 35, 47000, tzinfo=tzlocal()), 'EndTime': datetime.datetime(2025, 3, 17, 11, 47, 35, 47000, tzinfo=tzlocal()), 'StatusMessage': 'Training job completed'}], 'FinalMetricDataList': [{'MetricName': 'train:rmse', 'Value': 0.3341499865055084, 'Timestamp': datetime.datetime(2025, 3, 17, 11, 47, 17, tzinfo=tzlocal())}], 'EnableNetworkIsolation': False, 'EnableInterContainerTrafficEncryption': False, 'EnableManagedSpotTraining': False, 'TrainingTimeInSeconds': 125, 'BillableTimeInSeconds': 125, 'ProfilingStatus': 'Disabled', 'ResponseMetadata': {'RequestId': '9f6662aa-e9a2-4b1f-bb58-9816943f1f26', 'HTTPStatusCode': 200, 'HTTPHeaders': {'x-amzn-requestid': '9f6662aa-e9a2-4b1f-bb58-9816943f1f26', 'content-type': 'application/x-amz-json-1.1', 'content-length': '5896', 'date': 'Mon, 17 Mar 2025 18:47:43 GMT'}, 'RetryAttempts': 0}}\n",
      "s3://adgu-datasets/output/xgboost-training-1742237086/output/model.tar.gz\n"
     ]
    }
   ],
   "source": [
    "# Start SageMaker Training Job\n",
    "print(\"Starting training job...\")\n",
    "sagemaker_client.create_training_job(**training_params)\n",
    "\n",
    "# Wait for training to complete\n",
    "print(\"Waiting for training to complete...\")\n",
    "while True:\n",
    "    response = sagemaker_client.describe_training_job(TrainingJobName=training_job_name)\n",
    "    status = response[\"TrainingJobStatus\"]\n",
    "    if status in [\"Completed\", \"Failed\", \"Stopped\"]:\n",
    "        print(f\"Training Job Status: {status}\")\n",
    "        break\n",
    "    time.sleep(10)\n",
    "\n",
    "# Check if training was successful\n",
    "if status != \"Completed\":\n",
    "    raise Exception(f\"Training failed with status: {status}\")\n",
    "\n",
    "print(response)\n",
    "\n",
    "# Extract model artifacts location\n",
    "model_artifact_s3 = response[\"ModelArtifacts\"][\"S3ModelArtifacts\"]\n",
    "print(model_artifact_s3)\n"
   ]
  },
  {
   "cell_type": "code",
   "execution_count": 4,
   "id": "f49310e4-27a5-4c54-827f-08a84827fce3",
   "metadata": {},
   "outputs": [
    {
     "name": "stdout",
     "output_type": "stream",
     "text": [
      "Creating model in SageMaker...\n",
      "{'ModelArn': 'arn:aws:sagemaker:us-east-1:146868985163:model/xgboost-model-1742237263', 'ResponseMetadata': {'RequestId': '42022ca7-149e-47aa-aa68-b5f6fe016de8', 'HTTPStatusCode': 200, 'HTTPHeaders': {'x-amzn-requestid': '42022ca7-149e-47aa-aa68-b5f6fe016de8', 'content-type': 'application/x-amz-json-1.1', 'content-length': '86', 'date': 'Mon, 17 Mar 2025 18:47:44 GMT'}, 'RetryAttempts': 0}}\n"
     ]
    }
   ],
   "source": [
    "# **Create a SageMaker Model**\n",
    "model_name = f\"xgboost-model-{int(time.time())}\"\n",
    "print(\"Creating model in SageMaker...\")\n",
    "create_model_response = sagemaker_client.create_model(\n",
    "    ModelName=model_name,\n",
    "    PrimaryContainer={\n",
    "        \"Image\": xgboost_image_uri,\n",
    "        \"ModelDataUrl\": model_artifact_s3,\n",
    "    },\n",
    "    ExecutionRoleArn=sagemaker_role,\n",
    ")\n",
    "print(create_model_response)"
   ]
  },
  {
   "cell_type": "code",
   "execution_count": null,
   "id": "eae1238b-a0c3-4afa-9798-112661e2e9f7",
   "metadata": {},
   "outputs": [],
   "source": [
    "# **Deploy the Model as an Endpoint**\n",
    "# Create the endpoint configuration\n",
    "endpoint_config_name = f\"xgboost-endpoint-config-{int(time.time())}\"\n",
    "endpoint_name = f\"xgboost-endpoint-{int(time.time())}\"\n",
    "\n",
    "# Create Endpoint Configuration\n",
    "print(\"Creating endpoint configuration...\")\n",
    "sagemaker_client.create_endpoint_config(\n",
    "    EndpointConfigName=endpoint_config_name,\n",
    "    ProductionVariants=[\n",
    "        {\n",
    "            \"VariantName\": \"XGBoostVariant1\",\n",
    "            \"ModelName\": model_name,\n",
    "            \"InstanceType\": \"ml.m5.large\",\n",
    "            \"InitialInstanceCount\": 1,\n",
    "        }\n",
    "    ],\n",
    ")"
   ]
  },
  {
   "cell_type": "code",
   "execution_count": null,
   "id": "e1e17d75-c871-4ee8-94b7-fb0cc0d4a9a4",
   "metadata": {},
   "outputs": [],
   "source": [
    "# **Deploy the Model as an Endpoint**\n",
    "# Create Endpoint\n",
    "print(\"Deploying model as an endpoint...\")\n",
    "sagemaker_client.create_endpoint(\n",
    "    EndpointName=endpoint_name, EndpointConfigName=endpoint_config_name\n",
    ")\n",
    "\n",
    "# Wait for endpoint to be ready\n",
    "print(\"Waiting for endpoint to be ready...\")\n",
    "while True:\n",
    "    response = sagemaker_client.describe_endpoint(EndpointName=endpoint_name)\n",
    "    status = response[\"EndpointStatus\"]\n",
    "    if status in [\"InService\", \"Failed\"]:\n",
    "        print(f\"Endpoint Status: {status}\")\n",
    "        break\n",
    "    time.sleep(30)\n",
    "\n",
    "# Check if deployment was successful\n",
    "if status != \"InService\":\n",
    "    raise Exception(f\"Deployment failed with status: {status}\")\n",
    "\n",
    "print(f\"Model deployed successfully at endpoint: {endpoint_name}\")\n",
    "\n",
    "print(response)"
   ]
  },
  {
   "cell_type": "code",
   "execution_count": null,
   "id": "8a864ff8-b75b-4534-ba24-04b2155174ca",
   "metadata": {},
   "outputs": [],
   "source": [
    "# Create a Predictor object\n",
    "predictor = Predictor(\n",
    "    endpoint_name=endpoint_name,\n",
    "    serializer=CSVSerializer(),  # Ensures input is formatted as CSV\n",
    "    deserializer=JSONDeserializer(),  # Parses JSON output\n",
    ")\n",
    "\n",
    "# Sample input data (excluding the target column)\n",
    "sample_data = [[30, 1, 12345]]  # Must be a 2D list\n",
    "\n",
    "# Invoke the endpoint\n",
    "prediction = predictor.predict(sample_data)\n",
    "\n",
    "print(\"Prediction response:\", prediction)"
   ]
  },
  {
   "cell_type": "code",
   "execution_count": null,
   "id": "07d4fb2e-921e-4353-b008-cdb719be5386",
   "metadata": {},
   "outputs": [],
   "source": [
    "sample_data = []\n",
    "for i in range(10):\n",
    "    sample_data += [[random.randint(20, 80), random.randint(0, 4), random.randint(10000, 150000)]]\n",
    "\n",
    "print(sample_data)\n",
    "prediction = predictor.predict(sample_data)\n",
    "print(\"Predictions: {}\".format(pprint.pprint(prediction)))"
   ]
  }
 ],
 "metadata": {
  "kernelspec": {
   "display_name": "Python 3 (ipykernel)",
   "language": "python",
   "name": "python3"
  },
  "language_info": {
   "codemirror_mode": {
    "name": "ipython",
    "version": 3
   },
   "file_extension": ".py",
   "mimetype": "text/x-python",
   "name": "python",
   "nbconvert_exporter": "python",
   "pygments_lexer": "ipython3",
   "version": "3.9.6"
  }
 },
 "nbformat": 4,
 "nbformat_minor": 5
}
