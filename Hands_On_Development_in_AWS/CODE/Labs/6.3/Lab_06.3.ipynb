{
 "cells": [
  {
   "cell_type": "markdown",
   "id": "5b697c6d-7839-4c42-ae19-ebedbbeda41d",
   "metadata": {},
   "source": [
    "# Edge Inference on Linux with DLR"
   ]
  },
  {
   "cell_type": "code",
   "execution_count": null,
   "id": "d67238b5-1b15-4467-877c-823ed1e85b91",
   "metadata": {},
   "outputs": [],
   "source": [
    "import dlr\n",
    "import numpy as np\n",
    "import csv\n",
    "import os\n",
    "\n",
    "from dlr.counter.phone_home import PhoneHome\n",
    "PhoneHome.disable_feature()\n",
    "\n",
    "# Load the SageMaker Neo model\n",
    "MODEL_DIR = \"./dlr-model\"  # Path where the compiled model is stored\n",
    "model = dlr.DLRModel(MODEL_DIR, 'cpu', 0)  # Modify 'cpu' based on your target device (e.g., 'gpu', 'cuda')\n",
    "\n",
    "def preprocess_csv(csv_string):\n",
    "    \"\"\"\n",
    "    Converts a CSV string into a NumPy array suitable for inference.\n",
    "    Assumes numerical data with no headers.\n",
    "    \"\"\"\n",
    "    csv_reader = csv.reader(csv_string.strip().split(\"\\n\"))\n",
    "    data = [list(map(float, row)) for row in csv_reader]  # Convert to float\n",
    "    return np.array(data, dtype=np.float32)\n",
    "\n",
    "def run_inference(csv_string):\n",
    "    \"\"\"\n",
    "    Runs inference on the provided CSV string.\n",
    "    \"\"\"\n",
    "    input_data = preprocess_csv(csv_string)\n",
    "    print(input_data)\n",
    "    input_name = model.get_input_names()[0]  # Get model input name\n",
    "    output = model.run({input_name: input_data})\n",
    "    return output\n",
    "\n",
    "# Run inference\n",
    "csv_input = \"\"\"32,4,153000\"\"\"\n",
    "result = run_inference(csv_input)\n",
    "print(\"Inference: {} Result: {}\".format(csv_input, result[0][0][0]))\n",
    "\n",
    "csv_input = \"\"\"44,1,52000\"\"\"\n",
    "result = run_inference(csv_input)\n",
    "print(\"Inference: {} Result: {}\".format(csv_input, result[0][0][0]))\n",
    "\n",
    "csv_input = \"\"\"77,3,120000\"\"\"\n",
    "result = run_inference(csv_input)\n",
    "print(\"Inference: {} Result: {}\".format(csv_input, result[0][0][0]))\n",
    "\n",
    "csv_input = \"\"\"51,0,89333\"\"\"\n",
    "result = run_inference(csv_input)\n",
    "print(\"Inference: {} Result: {}\".format(csv_input, result[0][0][0]))\n",
    "\n",
    "csv_input = \"\"\"18,3,18000\"\"\"\n",
    "result = run_inference(csv_input)\n",
    "print(\"Inference: {} Result: {}\".format(csv_input, result[0][0][0]))"
   ]
  }
 ],
 "metadata": {
  "kernelspec": {
   "display_name": "Python 3 (ipykernel)",
   "language": "python",
   "name": "python3"
  },
  "language_info": {
   "codemirror_mode": {
    "name": "ipython",
    "version": 3
   },
   "file_extension": ".py",
   "mimetype": "text/x-python",
   "name": "python",
   "nbconvert_exporter": "python",
   "pygments_lexer": "ipython3",
   "version": "3.9.6"
  }
 },
 "nbformat": 4,
 "nbformat_minor": 5
}
