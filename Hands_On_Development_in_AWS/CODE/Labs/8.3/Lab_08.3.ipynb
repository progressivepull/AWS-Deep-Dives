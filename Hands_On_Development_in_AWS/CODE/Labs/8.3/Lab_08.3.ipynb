{
 "cells": [
  {
   "cell_type": "markdown",
   "id": "c9a06eca-398a-4aa0-942a-209f75090903",
   "metadata": {},
   "source": [
    "# Autoscaling"
   ]
  },
  {
   "cell_type": "markdown",
   "id": "39e60ba7-fe6c-402c-bda6-a1e92209f941",
   "metadata": {},
   "source": [
    "## Deploy a pre-trained model to an endpoint"
   ]
  },
  {
   "cell_type": "code",
   "execution_count": null,
   "id": "04f2ce26-935a-4058-8a4e-99053b9a728a",
   "metadata": {},
   "outputs": [],
   "source": [
    "import boto3\n",
    "import time, random, uuid\n",
    "import pandas as pd\n",
    "import numpy as np\n",
    "from sagemaker import Model\n",
    "from sagemaker import image_uris\n",
    "from sagemaker.serializers import CSVSerializer\n",
    "from sagemaker.deserializers import JSONDeserializer\n",
    "\n",
    "s3_bucket = \"INSERT_S3_BUCKET\"\n",
    "model_artifact_s3_key = \"INSERT_S3_KEY\"\n",
    "sagemaker_role = \"INSERT_ARN\"\n",
    "\n",
    "s3_bucket = \"adgu-datasets\"\n",
    "model_artifact_s3_key = \"output/xgboost-training-1741995855/output/model.tar.gz\"\n",
    "sagemaker_role = \"arn:aws:iam::146868985163:role/SageMaker-ExecutionRole\"\n",
    "\n",
    "\n",
    "model_artifact_s3 = f\"s3://{s3_bucket}/{model_artifact_s3_key}\"\n",
    "\n",
    "# Initialize Boto3 SageMaker client\n",
    "sagemaker_client = boto3.client(\"sagemaker\", region_name=\"us-east-1\")\n",
    "xgboost_image_uri = image_uris.retrieve(framework='xgboost',region='us-east-1', version='1.7-1')\n",
    "\n",
    "\n",
    "# **Create a SageMaker Model**\n",
    "model_name = f\"xgboost-model-{int(time.time())}\"\n",
    "print(\"Creating model in SageMaker named: {}\".format(model_name))\n",
    "create_model_response = sagemaker_client.create_model(\n",
    "    ModelName=model_name,\n",
    "    PrimaryContainer={\n",
    "        \"Image\": xgboost_image_uri,\n",
    "        \"ModelDataUrl\": model_artifact_s3,\n",
    "    },\n",
    "    ExecutionRoleArn=sagemaker_role,\n",
    ")\n",
    "\n",
    "\n",
    "# **Deploy the Model as an Endpoint**\n",
    "# Create the endpoint configuration\n",
    "endpoint_config_name = f\"xgboost-endpoint-config-{int(time.time())}\"\n",
    "endpoint_name = f\"static-endpoint-name\"\n",
    "\n",
    "# Create Endpoint Configuration\n",
    "print(\"Creating endpoint configuration...\")\n",
    "sagemaker_client.create_endpoint_config(\n",
    "    EndpointConfigName=endpoint_config_name,\n",
    "    ProductionVariants=[\n",
    "        {\n",
    "            \"VariantName\": \"XGBoostVariant1\",\n",
    "            \"ModelName\": model_name,\n",
    "            \"InstanceType\": \"ml.m5.large\",\n",
    "            \"InitialInstanceCount\": 1,\n",
    "        }\n",
    "    ],\n",
    ")\n",
    "\n",
    "# **Deploy the Model as an Endpoint**\n",
    "# Create Endpoint\n",
    "print(\"Deploying model as an endpoint...\")\n",
    "sagemaker_client.create_endpoint(\n",
    "    EndpointName=endpoint_name, EndpointConfigName=endpoint_config_name\n",
    ")\n",
    "\n",
    "# Wait for endpoint to be ready\n",
    "print(\"Waiting for endpoint to be ready...\")\n",
    "while True:\n",
    "    response = sagemaker_client.describe_endpoint(EndpointName=endpoint_name)\n",
    "    status = response[\"EndpointStatus\"]\n",
    "    if status in [\"InService\", \"Failed\"]:\n",
    "        print(f\"Endpoint Status: {status}\")\n",
    "        break\n",
    "    time.sleep(10)\n",
    "\n",
    "# Check if deployment was successful\n",
    "if status != \"InService\":\n",
    "    raise Exception(f\"Deployment failed with status: {status}\")\n",
    "\n",
    "print(f\"Model deployed successfully at endpoint: {endpoint_name}\")\n"
   ]
  },
  {
   "cell_type": "markdown",
   "id": "c83b2415-934d-4f1e-b244-d7f0d91ba043",
   "metadata": {},
   "source": [
    "### Head into the web console and enable auto-scaling on the endpoint variant.\n",
    "\n",
    "## Generate Traffic"
   ]
  },
  {
   "cell_type": "code",
   "execution_count": null,
   "id": "586df544-8134-4548-a96c-a964b9cb11bc",
   "metadata": {},
   "outputs": [],
   "source": [
    "from sagemaker.predictor import Predictor\n",
    "from sagemaker.serializers import CSVSerializer\n",
    "from sagemaker.deserializers import JSONDeserializer\n",
    "# Create a Predictor object\n",
    "predictor = Predictor(\n",
    "    endpoint_name=endpoint_name,\n",
    "    serializer=CSVSerializer(),  # Ensures input is formatted as CSV\n",
    "    deserializer=JSONDeserializer(),  # Parses JSON output\n",
    ")\n",
    "\n",
    "for _ in range(1000):\n",
    "    # Sample input data (excluding the target column)\n",
    "    sample_data = [[30, 1, 12345]]  # Must be a 2D list\n",
    "    \n",
    "    # Invoke the endpoint\n",
    "    prediction = predictor.predict(sample_data)\n",
    "    \n",
    "    print(\"Prediction response:\", prediction)"
   ]
  }
 ],
 "metadata": {
  "kernelspec": {
   "display_name": "Python 3 (ipykernel)",
   "language": "python",
   "name": "python3"
  },
  "language_info": {
   "codemirror_mode": {
    "name": "ipython",
    "version": 3
   },
   "file_extension": ".py",
   "mimetype": "text/x-python",
   "name": "python",
   "nbconvert_exporter": "python",
   "pygments_lexer": "ipython3",
   "version": "3.9.6"
  }
 },
 "nbformat": 4,
 "nbformat_minor": 5
}
