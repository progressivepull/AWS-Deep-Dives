{
 "cells": [
  {
   "cell_type": "markdown",
   "id": "db5b522d-af91-4263-a339-0308b9bb8812",
   "metadata": {},
   "source": [
    "# Lab 6.1\n",
    "Run inference for newly deployed model"
   ]
  },
  {
   "cell_type": "code",
   "execution_count": null,
   "id": "fe8c8c1a-3c8f-4d23-9440-ac48b7334566",
   "metadata": {},
   "outputs": [],
   "source": [
    "import boto3\n",
    "import json\n",
    "import random\n",
    "\n",
    "endpoint_name = \"INSERT_ENDPOINT_NAME\"\n",
    "\n",
    "# Initialize SageMaker runtime\n",
    "runtime = boto3.client('sagemaker-runtime')\n",
    "\n",
    "\n",
    "for i in range(50):\n",
    "    # Generate random input data\n",
    "    payload = \"{},{},{}\".format(random.randint(18,80), random.randint(0, 5), random.randint(10000, 150000))\n",
    "    \n",
    "    \n",
    "    # Invoke the endpoint\n",
    "    response = runtime.invoke_endpoint(\n",
    "      EndpointName=endpoint_name,\n",
    "      ContentType='text/CSV',\n",
    "      Body=payload\n",
    "    )\n",
    "    \n",
    "    # Print the prediction\n",
    "    print(\"{}: Input: {} Output: {}\".format(i, payload, response['Body'].read().decode('utf-8').strip()))"
   ]
  },
  {
   "cell_type": "code",
   "execution_count": null,
   "id": "d11e405f-b522-40d1-a9d2-0a0832cc5f09",
   "metadata": {},
   "outputs": [],
   "source": [
    "# delete the endpoint\n",
    "sagemaker = boto3.client('sagemaker')\n",
    "sagemaker.delete_endpoint(EndpointName='loan-approval-endpoint')"
   ]
  }
 ],
 "metadata": {
  "kernelspec": {
   "display_name": "Python 3 (ipykernel)",
   "language": "python",
   "name": "python3"
  },
  "language_info": {
   "codemirror_mode": {
    "name": "ipython",
    "version": 3
   },
   "file_extension": ".py",
   "mimetype": "text/x-python",
   "name": "python",
   "nbconvert_exporter": "python",
   "pygments_lexer": "ipython3",
   "version": "3.9.6"
  }
 },
 "nbformat": 4,
 "nbformat_minor": 5
}
