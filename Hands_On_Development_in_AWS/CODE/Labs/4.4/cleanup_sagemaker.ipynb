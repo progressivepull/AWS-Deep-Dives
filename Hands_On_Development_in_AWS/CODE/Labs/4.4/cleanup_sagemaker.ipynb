{
 "cells": [
  {
   "cell_type": "markdown",
   "id": "dac70a3b-b0c2-4d14-a02d-b3ccca96ee16",
   "metadata": {},
   "source": [
    "# Cleanup Sagemaker \n",
    "\n",
    "## Note: this python application is extremely destructive.  \n",
    "\n",
    "This script will:\n",
    "-   terminate all endpoints in the region\n",
    "-   delete all models in the region\n",
    "-   delete all endpoint configurations in the region"
   ]
  },
  {
   "cell_type": "code",
   "execution_count": null,
   "id": "95dfa96c-a71a-4023-9fc3-35c780126e99",
   "metadata": {},
   "outputs": [],
   "source": [
    "import boto3\n",
    "\n",
    "def delete_all_sagemaker_resources():\n",
    "    sagemaker_client = boto3.client(\"sagemaker\")\n",
    "\n",
    "    # Delete all endpoints\n",
    "    print(\"\\n\\nDeleting all SageMaker endpoints...\")\n",
    "    response = sagemaker_client.list_endpoints()\n",
    "    for endpoint in response.get(\"Endpoints\", []):\n",
    "        endpoint_name = endpoint[\"EndpointName\"]\n",
    "        print(f\"Deleting endpoint: {endpoint_name}\")\n",
    "        sagemaker_client.delete_endpoint(EndpointName=endpoint_name)\n",
    "\n",
    "    # Delete all endpoint configurations\n",
    "    print(\"\\nDeleting all SageMaker endpoint configurations...\")\n",
    "    response = sagemaker_client.list_endpoint_configs()\n",
    "    for endpoint_config in response.get(\"EndpointConfigs\", []):\n",
    "        endpoint_config_name = endpoint_config[\"EndpointConfigName\"]\n",
    "        print(f\"Deleting endpoint configuration: {endpoint_config_name}\")\n",
    "        sagemaker_client.delete_endpoint_config(EndpointConfigName=endpoint_config_name)\n",
    "\n",
    "    # Delete all models\n",
    "    print(\"\\nDeleting all SageMaker models...\")\n",
    "    response = sagemaker_client.list_models()\n",
    "    for model in response.get(\"Models\", []):\n",
    "        model_name = model[\"ModelName\"]\n",
    "        print(f\"Deleting model: {model_name}\")\n",
    "        sagemaker_client.delete_model(ModelName=model_name)\n",
    "\n",
    "    # Delete all compilation jobs\n",
    "    print(\"\\nDeleting all SageMaker compilation jobs...\")\n",
    "    response = sagemaker_client.list_compilation_jobs()\n",
    "    for job in response.get(\"CompilationJobSummaries\", []):\n",
    "        job_name = job[\"CompilationJobName\"]\n",
    "        print(f\"Deleting job: {job_name}\")\n",
    "        sagemaker_client.delete_compilation_job(CompilationJobName=job_name)\n",
    "\n",
    "    print(\"All SageMaker resources deleted.\")\n",
    "\n",
    "if __name__ == \"__main__\":\n",
    "    delete_all_sagemaker_resources()\n"
   ]
  },
  {
   "cell_type": "code",
   "execution_count": null,
   "id": "62f45c1e-399c-413e-b607-59a1903ebe2a",
   "metadata": {},
   "outputs": [],
   "source": []
  }
 ],
 "metadata": {
  "kernelspec": {
   "display_name": "Python 3 (ipykernel)",
   "language": "python",
   "name": "python3"
  },
  "language_info": {
   "codemirror_mode": {
    "name": "ipython",
    "version": 3
   },
   "file_extension": ".py",
   "mimetype": "text/x-python",
   "name": "python",
   "nbconvert_exporter": "python",
   "pygments_lexer": "ipython3",
   "version": "3.9.6"
  }
 },
 "nbformat": 4,
 "nbformat_minor": 5
}
